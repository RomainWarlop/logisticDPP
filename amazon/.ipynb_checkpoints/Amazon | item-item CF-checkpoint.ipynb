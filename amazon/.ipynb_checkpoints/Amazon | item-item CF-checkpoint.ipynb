{
 "cells": [
  {
   "cell_type": "markdown",
   "metadata": {},
   "source": [
    "# Item-item collaborative filtering"
   ]
  },
  {
   "cell_type": "code",
   "execution_count": 1,
   "metadata": {},
   "outputs": [],
   "source": [
    "import pandas as pd\n",
    "import numpy as np\n",
    "from copy import deepcopy \n",
    "\n",
    "from pyspark.sql import SQLContext\n",
    "sqlCtx = SQLContext(sc)\n",
    "from pyspark.ml.recommendation import ALS"
   ]
  },
  {
   "cell_type": "code",
   "execution_count": 2,
   "metadata": {},
   "outputs": [],
   "source": [
    "category = [\"diaper\",\"apparel\",\"feeding\"]\n",
    "\n",
    "data = {}\n",
    "nItemByCat = {}\n",
    "deltaByCat = {}\n",
    "nItem = 0\n",
    "for cat in category:\n",
    "    data[cat] = pd.read_csv(\"/home/romain/Documents/PhD/logisticDPP/amazon/1_100_100_100_\"+cat+\"_regs.csv\",\n",
    "                   sep=\";\",header=None,names=['itemSet'])\n",
    "    \n",
    "    data[cat]['setSize'] = list(map(lambda x: len(x.split(',')),data[cat]['itemSet']))\n",
    "    items = list(map(lambda x: list(map(int,x.split(','))),data[cat]['itemSet']))\n",
    "    items = list(set([item for sublist in items for item in sublist]))\n",
    "    nItemByCat[cat] = len(items)\n",
    "    deltaByCat[cat] = nItem\n",
    "    nItem += len(items)\n",
    "\n",
    "sets = []\n",
    "for cat in category:\n",
    "    tmp = list(map(lambda x: x.split(','),data[cat]['itemSet']))\n",
    "    tmp = list(map(lambda x: list(map(lambda y: int(y)+deltaByCat[cat],x)),tmp))\n",
    "    sets.extend(tmp)\n",
    "size = list(map(len,sets))\n",
    "nUsers = len(sets)\n",
    "users = np.repeat(range(nUsers),size)\n",
    "\n",
    "flatsets = [int(item)-1 for sublist in sets for item in sublist]\n",
    "df = pd.DataFrame({'user':users,'item':flatsets,'rating':1.0})\n",
    "#df.index = df['user']"
   ]
  },
  {
   "cell_type": "code",
   "execution_count": 3,
   "metadata": {},
   "outputs": [],
   "source": [
    "def random_mask(x):\n",
    "    result = np.zeros_like(x)\n",
    "    if len(x)>1:\n",
    "        result[np.random.choice(len(x))] = 1\n",
    "    return result\n",
    "\n",
    "threshold   = 0.7"
   ]
  },
  {
   "cell_type": "code",
   "execution_count": 4,
   "metadata": {},
   "outputs": [],
   "source": [
    "def recommendForBasket(basket,V):\n",
    "    sim = np.zeros(len(V))\n",
    "    for item in basket:\n",
    "        tmp = V[item,:].dot(V.T)\n",
    "        sim += tmp/len(basket)\n",
    "    sim[basket] = np.min(sim)-10\n",
    "    return sim"
   ]
  },
  {
   "cell_type": "code",
   "execution_count": 5,
   "metadata": {},
   "outputs": [
    {
     "name": "stdout",
     "output_type": "stream",
     "text": [
      "Start numTraits= 5\n",
      "run number 1 - 5\n",
      "run number 2 - 5\n",
      "run number 3 - 5\n",
      "\n",
      "\n",
      "********************\n",
      "num latent factors: 5\n",
      "MPR= 73.70774725274725\n",
      "Precision @5= 27.487068487068484\n",
      "Precision @10= 38.792568542568546\n",
      "Precision @20= 55.60370185370186\n",
      "********************\n",
      "Start numTraits= 10\n",
      "run number 1 - 10\n",
      "run number 2 - 10\n",
      "run number 3 - 10\n",
      "\n",
      "\n",
      "********************\n",
      "num latent factors: 10\n",
      "MPR= 73.7292649017649\n",
      "Precision @5= 27.32595182595183\n",
      "Precision @10= 38.92385392385392\n",
      "Precision @20= 56.48798423798424\n",
      "********************\n",
      "Start numTraits= 20\n",
      "run number 1 - 20\n",
      "run number 2 - 20\n",
      "run number 3 - 20\n",
      "\n",
      "\n",
      "********************\n",
      "num latent factors: 20\n",
      "MPR= 71.52609862359863\n",
      "Precision @5= 26.0981795981796\n",
      "Precision @10= 36.350066600066604\n",
      "Precision @20= 51.030108780108776\n",
      "********************\n",
      "Start numTraits= 30\n",
      "run number 1 - 30\n",
      "run number 2 - 30\n",
      "run number 3 - 30\n",
      "\n",
      "\n",
      "********************\n",
      "num latent factors: 30\n",
      "MPR= 70.78815323565323\n",
      "Precision @5= 25.626762126762127\n",
      "Precision @10= 36.52200577200577\n",
      "Precision @20= 49.625541125541126\n",
      "********************\n",
      "Start numTraits= 50\n",
      "run number 1 - 50\n",
      "run number 2 - 50\n",
      "run number 3 - 50\n",
      "\n",
      "\n",
      "********************\n",
      "num latent factors: 50\n",
      "MPR= 70.62631202131202\n",
      "Precision @5= 24.83497058497058\n",
      "Precision @10= 35.10103785103785\n",
      "Precision @20= 50.50535575535576\n",
      "********************\n"
     ]
    }
   ],
   "source": [
    "for numTraits in [5,10,20,30,50]:\n",
    "    print(\"Start numTraits=\",numTraits)\n",
    "    \n",
    "    nRuns       = 3\n",
    "    MPR         = []\n",
    "    Ks          = [5,10,20]\n",
    "    P           = dict.fromkeys(Ks)\n",
    "    for K in Ks:\n",
    "        P[K] = []\n",
    "\n",
    "    for run in range(nRuns):\n",
    "        print(\"run number\",run+1,\"-\",numTraits)\n",
    "        np.random.seed(123*run)\n",
    "\n",
    "        testUsers = list(np.random.choice(range(nUsers),size=int((1-threshold)*nUsers),replace=False))\n",
    "        trainingUsers = list(set(range(nUsers))-set(testUsers))\n",
    "        trainingData = df.loc[trainingUsers]\n",
    "        trainingData.index = range(len(trainingData))\n",
    "\n",
    "        testData = df.loc[testUsers]\n",
    "        testData.index = range(len(testData))\n",
    "\n",
    "        mask = testData.groupby(['user'])['user'].transform(random_mask).astype(bool)\n",
    "        not_mask = list(map(lambda x: not(x),mask))\n",
    "        \n",
    "        testUsersBasket = testData.loc[not_mask]\n",
    "        #trainingData = pd.concat([trainingData,testUsersBasket])\n",
    "        testData = testData.loc[mask]\n",
    "\n",
    "        sparkInput = sqlCtx.createDataFrame(trainingData)\n",
    "        als = ALS(rank=numTraits,regParam=0.1,userCol='user',itemCol='item',ratingCol='rating',implicitPrefs=True)\n",
    "        mod = als.fit(sparkInput) \n",
    "\n",
    "        # get item latent factors\n",
    "        V = mod.itemFactors.orderBy(\"id\")\n",
    "        V_index = V.select('id').toPandas()\n",
    "        V = V.select('features')\n",
    "\n",
    "        for k in range(numTraits):\n",
    "            V = V.withColumn('factor'+str(k),V.features[k])\n",
    "\n",
    "        V = V.drop('features')\n",
    "        V = V.toPandas()\n",
    "        V.index = V_index['id']\n",
    "        unknowns = list(set(range(len(category)*100))-set(V_index['id']))\n",
    "        for unknown in unknowns:\n",
    "            V.loc[unknown] = 0\n",
    "        V = V.sort_index()\n",
    "        V = np.array(V)\n",
    "\n",
    "        percentileRank = []\n",
    "        precisionAt5 = 0\n",
    "        precisionAt10 = 0\n",
    "        precisionAt20 = 0\n",
    "\n",
    "        for user in testUsers:            \n",
    "            if len(testData.loc[testData['user']==user,'item'])>0:\n",
    "                basket = list(testUsersBasket.loc[testUsersBasket['user']==user,'item'])\n",
    "                true_target = list(testData.loc[testData['user']==user,'item'])[0]\n",
    "                subY = recommendForBasket(basket,V)\n",
    "                y0 = subY[true_target]\n",
    "                rank = np.sum(subY>y0)\n",
    "                percentileRank.append(1-rank/nItem)\n",
    "                top5Target = np.argsort(subY)[-5:]\n",
    "                top10Target = np.argsort(subY)[-10:]\n",
    "                top20Target = np.argsort(subY)[-20:]\n",
    "                if true_target in top5Target:\n",
    "                    precisionAt5 += 1\n",
    "                if true_target in top10Target:\n",
    "                    precisionAt10 += 1\n",
    "                if true_target in top20Target:\n",
    "                    precisionAt20 += 1\n",
    "\n",
    "        MPR.append(100*np.mean(percentileRank))\n",
    "        P[5].append(100*precisionAt5/len(percentileRank))\n",
    "        P[10].append(100*precisionAt10/len(percentileRank))\n",
    "        P[20].append(100*precisionAt20/len(percentileRank))\n",
    "    \n",
    "    print(\"\\n\")\n",
    "    print(\"*\"*20)\n",
    "    print(\"num latent factors:\",numTraits)\n",
    "    print(\"MPR=\",np.mean(MPR))\n",
    "    for K in Ks:\n",
    "        print(\"Precision @\"+str(K)+\"=\",np.mean(P[K]))\n",
    "    print(\"*\"*20)"
   ]
  },
  {
   "cell_type": "code",
   "execution_count": 95,
   "metadata": {},
   "outputs": [
    {
     "data": {
      "text/plain": [
       "['diaper']"
      ]
     },
     "execution_count": 95,
     "metadata": {},
     "output_type": "execute_result"
    }
   ],
   "source": [
    "category"
   ]
  },
  {
   "cell_type": "code",
   "execution_count": 80,
   "metadata": {},
   "outputs": [
    {
     "data": {
      "text/plain": [
       "[242, 244]"
      ]
     },
     "execution_count": 80,
     "metadata": {},
     "output_type": "execute_result"
    }
   ],
   "source": [
    "basket"
   ]
  },
  {
   "cell_type": "code",
   "execution_count": null,
   "metadata": {},
   "outputs": [],
   "source": []
  },
  {
   "cell_type": "code",
   "execution_count": 87,
   "metadata": {},
   "outputs": [
    {
     "data": {
      "text/plain": [
       "0.09119976"
      ]
     },
     "execution_count": 87,
     "metadata": {},
     "output_type": "execute_result"
    }
   ],
   "source": [
    "sim = V[209,:].dot(V.T)\n",
    "sim[244]"
   ]
  },
  {
   "cell_type": "code",
   "execution_count": 82,
   "metadata": {},
   "outputs": [
    {
     "data": {
      "text/plain": [
       "0.86"
      ]
     },
     "execution_count": 82,
     "metadata": {},
     "output_type": "execute_result"
    }
   ],
   "source": [
    "rank = np.sum(subY>y0)\n",
    "1-rank/nItem"
   ]
  },
  {
   "cell_type": "code",
   "execution_count": 78,
   "metadata": {},
   "outputs": [
    {
     "data": {
      "text/plain": [
       "(array([ 191.,  112.,   88.,   93.,   71.,  162.,  289.,  679., 1479.,\n",
       "        6162.]),\n",
       " array([0.00666667, 0.106     , 0.20533333, 0.30466667, 0.404     ,\n",
       "        0.50333333, 0.60266667, 0.702     , 0.80133333, 0.90066667,\n",
       "        1.        ]),\n",
       " <a list of 10 Patch objects>)"
      ]
     },
     "execution_count": 78,
     "metadata": {},
     "output_type": "execute_result"
    },
    {
     "data": {
      "image/png": "[encoded data removed]",
      "text/plain": [
       "<matplotlib.figure.Figure at 0x7f87ffd280f0>"
      ]
     },
     "metadata": {},
     "output_type": "display_data"
    }
   ],
   "source": [
    "%matplotlib inline\n",
    "import matplotlib.pyplot as plt\n",
    "plt.hist(percentileRank)"
   ]
  },
  {
   "cell_type": "code",
   "execution_count": 88,
   "metadata": {},
   "outputs": [
    {
     "data": {
      "text/plain": [
       "0.8764332689970692"
      ]
     },
     "execution_count": 88,
     "metadata": {},
     "output_type": "execute_result"
    }
   ],
   "source": [
    "np.mean(percentileRank)"
   ]
  },
  {
   "cell_type": "markdown",
   "metadata": {},
   "source": [
    "#### Negative sampling"
   ]
  },
  {
   "cell_type": "code",
   "execution_count": 165,
   "metadata": {},
   "outputs": [],
   "source": [
    "mask = df.groupby(['user'])['user'].transform(random_mask).astype(bool)\n",
    "not_mask = list(map(lambda x: not(x),mask))\n",
    "baskets = df.loc[not_mask]\n",
    "baskets = pd.DataFrame(baskets.groupby(['user'])['item'].apply(list).reset_index())\n",
    "baskets = baskets.rename(columns={'item':'itemSet'})\n",
    "targets = df.loc[mask]\n",
    "baskets = pd.merge(baskets,targets[['user','item']],on='user')\n",
    "baskets = baskets.rename(columns={'item':'target'})\n",
    "baskets['conversion'] = 1.0\n",
    "del baskets['user']"
   ]
  },
  {
   "cell_type": "code",
   "execution_count": 190,
   "metadata": {},
   "outputs": [],
   "source": [
    "toNeg = df.groupby(['user'])['item'].apply(list).reset_index()\n",
    "toNeg = toNeg.rename(columns={'item':'itemSet'})\n",
    "toNeg['len'] = list(map(len,toNeg['itemSet']))\n",
    "toNeg = toNeg.loc[toNeg['len']>1]\n",
    "toNeg['target'] = -1\n",
    "toNeg['conversion'] = 0\n",
    "\n",
    "negativeExamples = pd.DataFrame(columns = ['itemSet','target','conversion'])\n",
    "for ind in toNeg.index:\n",
    "    basket = toNeg.loc[ind,'itemSet']\n",
    "    sim = recommendForBasket(basket,V)\n",
    "    sim += np.min(sim)\n",
    "    sim /= np.sum(sim)\n",
    "    targets = np.random.choice(range(len(sim)),5,False,sim)#np.argsort(sim)[-5:]#[len(basket):len(basket)+5]\n",
    "    for target in targets:\n",
    "        negativeExamples.loc[len(negativeExamples)] = [basket,int(target),0]"
   ]
  },
  {
   "cell_type": "code",
   "execution_count": 191,
   "metadata": {},
   "outputs": [],
   "source": [
    "output = pd.concat([baskets,negativeExamples])\n",
    "output['setSize'] = list(map(len,output['itemSet']))"
   ]
  },
  {
   "cell_type": "code",
   "execution_count": 192,
   "metadata": {},
   "outputs": [
    {
     "data": {
      "text/html": [
       "<div>\n",
       "<style scoped>\n",
       "    .dataframe tbody tr th:only-of-type {\n",
       "        vertical-align: middle;\n",
       "    }\n",
       "\n",
       "    .dataframe tbody tr th {\n",
       "        vertical-align: top;\n",
       "    }\n",
       "\n",
       "    .dataframe thead th {\n",
       "        text-align: right;\n",
       "    }\n",
       "</style>\n",
       "<table border=\"1\" class=\"dataframe\">\n",
       "  <thead>\n",
       "    <tr style=\"text-align: right;\">\n",
       "      <th></th>\n",
       "      <th>itemSet</th>\n",
       "      <th>target</th>\n",
       "      <th>conversion</th>\n",
       "      <th>setSize</th>\n",
       "    </tr>\n",
       "  </thead>\n",
       "  <tbody>\n",
       "    <tr>\n",
       "      <th>0</th>\n",
       "      <td>[0, 1, 2]</td>\n",
       "      <td>3</td>\n",
       "      <td>1</td>\n",
       "      <td>3</td>\n",
       "    </tr>\n",
       "    <tr>\n",
       "      <th>1</th>\n",
       "      <td>[6]</td>\n",
       "      <td>5</td>\n",
       "      <td>1</td>\n",
       "      <td>1</td>\n",
       "    </tr>\n",
       "    <tr>\n",
       "      <th>2</th>\n",
       "      <td>[9, 10]</td>\n",
       "      <td>8</td>\n",
       "      <td>1</td>\n",
       "      <td>2</td>\n",
       "    </tr>\n",
       "    <tr>\n",
       "      <th>3</th>\n",
       "      <td>[12]</td>\n",
       "      <td>11</td>\n",
       "      <td>1</td>\n",
       "      <td>1</td>\n",
       "    </tr>\n",
       "    <tr>\n",
       "      <th>4</th>\n",
       "      <td>[13, 14]</td>\n",
       "      <td>2</td>\n",
       "      <td>1</td>\n",
       "      <td>2</td>\n",
       "    </tr>\n",
       "  </tbody>\n",
       "</table>\n",
       "</div>"
      ],
      "text/plain": [
       "     itemSet target conversion  setSize\n",
       "0  [0, 1, 2]      3          1        3\n",
       "1        [6]      5          1        1\n",
       "2    [9, 10]      8          1        2\n",
       "3       [12]     11          1        1\n",
       "4   [13, 14]      2          1        2"
      ]
     },
     "execution_count": 192,
     "metadata": {},
     "output_type": "execute_result"
    }
   ],
   "source": [
    "output.head()"
   ]
  },
  {
   "cell_type": "code",
   "execution_count": 193,
   "metadata": {},
   "outputs": [],
   "source": [
    "output.to_csv(\"diaper_withALSnegative3.csv\",index=False)"
   ]
  },
  {
   "cell_type": "code",
   "execution_count": 145,
   "metadata": {},
   "outputs": [
    {
     "data": {
      "text/plain": [
       "89"
      ]
     },
     "execution_count": 145,
     "metadata": {},
     "output_type": "execute_result"
    }
   ],
   "source": [
    "np.argsort(sim)[len(basket)]"
   ]
  },
  {
   "cell_type": "code",
   "execution_count": null,
   "metadata": {},
   "outputs": [],
   "source": []
  },
  {
   "cell_type": "code",
   "execution_count": 186,
   "metadata": {},
   "outputs": [
    {
     "data": {
      "text/plain": [
       "array([0.00970178, 0.00969323, 0.00965943, 0.0095994 , 0.00971526,\n",
       "       0.00973164, 0.0097034 , 0.00964134, 0.00971638, 0.00970513,\n",
       "       0.00972431, 0.00972999, 0.00969952, 0.00970075, 0.00970977,\n",
       "       0.01945345, 0.00971313, 0.00970848, 0.00972109, 0.00970314,\n",
       "       0.01945345, 0.00968654, 0.0096809 , 0.0096949 , 0.00971183,\n",
       "       0.00972455, 0.00971812, 0.00961008, 0.00968294, 0.0097116 ,\n",
       "       0.00969385, 0.00973101, 0.00970824, 0.00973369, 0.00971196,\n",
       "       0.00972584, 0.00971221, 0.00969866, 0.0097097 , 0.00969565,\n",
       "       0.00969139, 0.00970792, 0.00974043, 0.00970966, 0.00972613,\n",
       "       0.00972682, 0.00972316, 0.00970488, 0.00972489, 0.00969824,\n",
       "       0.00970823, 0.00970505, 0.00970047, 0.00971238, 0.00969495,\n",
       "       0.00970374, 0.0097262 , 0.00970749, 0.00969782, 0.00970618,\n",
       "       0.00972794, 0.00973463, 0.00970646, 0.00971638, 0.00970066,\n",
       "       0.00971452, 0.00973604, 0.00968775, 0.0097344 , 0.00972359,\n",
       "       0.00970555, 0.00969694, 0.00971289, 0.01945345, 0.00971024,\n",
       "       0.00971657, 0.00970858, 0.00971447, 0.00972043, 0.00973468,\n",
       "       0.0096972 , 0.00972984, 0.00970878, 0.00970513, 0.00972922,\n",
       "       0.00968677, 0.00971219, 0.00972093, 0.00971559, 0.00970695,\n",
       "       0.00967813, 0.00972048, 0.00973163, 0.00967496, 0.00970906,\n",
       "       0.00973002, 0.00973276, 0.00970118, 0.00972949, 0.00968121])"
      ]
     },
     "execution_count": 186,
     "metadata": {},
     "output_type": "execute_result"
    }
   ],
   "source": []
  },
  {
   "cell_type": "code",
   "execution_count": 189,
   "metadata": {},
   "outputs": [
    {
     "data": {
      "text/plain": [
       "array([99, 52, 46, 28, 89])"
      ]
     },
     "execution_count": 189,
     "metadata": {},
     "output_type": "execute_result"
    }
   ],
   "source": []
  }
 ],
 "metadata": {
  "kernelspec": {
   "display_name": "Python 3",
   "language": "python",
   "name": "python3"
  },
  "language_info": {
   "codemirror_mode": {
    "name": "ipython",
    "version": 3
   },
   "file_extension": ".py",
   "mimetype": "text/x-python",
   "name": "python",
   "nbconvert_exporter": "python",
   "pygments_lexer": "ipython3",
   "version": "3.6.4"
  }
 },
 "nbformat": 4,
 "nbformat_minor": 2
}
