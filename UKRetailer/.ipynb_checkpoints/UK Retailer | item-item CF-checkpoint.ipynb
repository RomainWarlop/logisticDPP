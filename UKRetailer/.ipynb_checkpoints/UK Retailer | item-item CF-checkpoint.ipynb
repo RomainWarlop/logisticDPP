{
 "cells": [
  {
   "cell_type": "markdown",
   "metadata": {},
   "source": [
    "# Item-item collaborative filtering"
   ]
  },
  {
   "cell_type": "code",
   "execution_count": 1,
   "metadata": {},
   "outputs": [],
   "source": [
    "import pandas as pd\n",
    "import numpy as np\n",
    "from copy import deepcopy \n",
    "\n",
    "from pyspark.sql import SQLContext\n",
    "sqlCtx = SQLContext(sc)\n",
    "from pyspark.ml.recommendation import ALS\n",
    "from pyspark.sql import functions as F"
   ]
  },
  {
   "cell_type": "code",
   "execution_count": 6,
   "metadata": {},
   "outputs": [],
   "source": [
    "data = pd.read_csv(\"/home/romain/Documents/PhD/logisticDPP/UKRetailer/data.csv\",encoding=\"latin1\")\n",
    "\n",
    "nItem = len(set(data['StockCode']))\n",
    "pivotTable = pd.DataFrame({'StockCode':list(set(data['StockCode'])),\n",
    "                           'itemid':list(range(nItem))})\n",
    "\n",
    "data = pd.merge(data,pivotTable)\n",
    "data = data.groupby(['CustomerID','InvoiceDate'])['itemid'].apply(list).reset_index()\n",
    "del data['CustomerID']\n",
    "del data['InvoiceDate']\n",
    "data = data.rename(columns={'itemid':'itemSet'})\n",
    "\n",
    "data['itemSet'] = list(map(lambda x: list(set(x)),data['itemSet']))\n",
    "data['setSize'] = list(map(len,data['itemSet']))\n",
    "\n",
    "data = data.loc[data['setSize']<100,]\n",
    "data = data.loc[data['setSize']>1]\n",
    "\n",
    "sets = list(map(lambda x: list(map(lambda y: int(y),x)),data['itemSet']))\n",
    "size = list(map(len,sets))\n",
    "nUsers = len(sets)\n",
    "users = np.repeat(range(nUsers),size)\n",
    "\n",
    "flatsets = [int(item) for sublist in sets for item in sublist]\n",
    "df = pd.DataFrame({'user':users,'item':flatsets,'rating':1.0})"
   ]
  },
  {
   "cell_type": "code",
   "execution_count": 3,
   "metadata": {},
   "outputs": [],
   "source": [
    "def random_mask(x):\n",
    "    result = np.zeros_like(x)\n",
    "    if len(x)>1:\n",
    "        result[np.random.choice(len(x))] = 1\n",
    "    return result\n",
    "\n",
    "threshold   = 0.7"
   ]
  },
  {
   "cell_type": "code",
   "execution_count": 4,
   "metadata": {},
   "outputs": [],
   "source": [
    "def recommendForBasket(basket,V):\n",
    "    sim = np.zeros(len(V))\n",
    "    for item in basket:\n",
    "        tmp = V[item,:].dot(V.T)\n",
    "        sim += tmp/len(basket)\n",
    "    sim[basket] = np.min(sim)-10\n",
    "    return sim"
   ]
  },
  {
   "cell_type": "code",
   "execution_count": 13,
   "metadata": {},
   "outputs": [
    {
     "name": "stdout",
     "output_type": "stream",
     "text": [
      "Start numTraits= 5\n",
      "run number 1 - 5\n",
      "run number 2 - 5\n",
      "run number 3 - 5\n",
      "\n",
      "\n",
      "********************\n",
      "num latent factors: 5\n",
      "MPR= 85.43399263530796\n",
      "Precision @5= 7.56286859430314\n",
      "Precision @10= 11.407594734814777\n",
      "Precision @20= 15.531797432175233\n",
      "********************\n"
     ]
    }
   ],
   "source": [
    "sc.setCheckpointDir(\"checkpoints\")\n",
    "for numTraits in [5,10,20,30,50]:\n",
    "    print(\"Start numTraits=\",numTraits)\n",
    "    \n",
    "    nRuns       = 3\n",
    "    MPR         = []\n",
    "    Ks          = [5,10,20]\n",
    "    P           = dict.fromkeys(Ks)\n",
    "    for K in Ks:\n",
    "        P[K] = []\n",
    "\n",
    "    for run in range(nRuns):\n",
    "        print(\"run number\",run+1,\"-\",numTraits)\n",
    "        np.random.seed(123*run)\n",
    "\n",
    "        testUsers = list(np.random.choice(range(nUsers),size=int((1-threshold)*nUsers),replace=False))\n",
    "        trainingUsers = list(set(range(nUsers))-set(testUsers))\n",
    "        trainingData = df.loc[trainingUsers]\n",
    "        trainingData.index = range(len(trainingData))\n",
    "\n",
    "        testData = df.loc[testUsers]\n",
    "        testData.index = range(len(testData))\n",
    "\n",
    "        mask = testData.groupby(['user'])['user'].transform(random_mask).astype(bool)\n",
    "        not_mask = list(map(lambda x: not(x),mask))\n",
    "        \n",
    "        testUsersBasket = testData.loc[not_mask]\n",
    "        #trainingData = pd.concat([trainingData,testData.loc[not_mask]])\n",
    "        testData = testData.loc[mask]\n",
    "\n",
    "        sparkInput = sqlCtx.createDataFrame(trainingData)\n",
    "        als = ALS(rank=numTraits,regParam=0.1,userCol='user',itemCol='item',ratingCol='rating',implicitPrefs=True)\n",
    "        mod = als.fit(sparkInput) \n",
    "\n",
    "        # get item latent factors\n",
    "        V = mod.itemFactors.orderBy(\"id\")\n",
    "        V_index = V.select('id').toPandas()\n",
    "        V = V.select('features')\n",
    "\n",
    "        for k in range(numTraits):\n",
    "            V = V.withColumn('factor'+str(k),V.features[k])\n",
    "\n",
    "        V = V.drop('features')\n",
    "        V = V.toPandas()\n",
    "        V.index = V_index['id']\n",
    "        unknowns = list(set(range(nItem))-set(V_index['id']))\n",
    "        for unknown in unknowns:\n",
    "            V.loc[unknown] = 0\n",
    "        V = V.sort_index()\n",
    "        V = np.array(V)\n",
    "\n",
    "        percentileRank = []\n",
    "        precisionAt5 = 0\n",
    "        precisionAt10 = 0\n",
    "        precisionAt20 = 0\n",
    "\n",
    "        for user in testUsers:\n",
    "            if len(testData.loc[testData['user']==user,'item'])>0:\n",
    "                basket = list(testUsersBasket.loc[testUsersBasket['user']==user,'item'])\n",
    "                true_target = list(testData.loc[testData['user']==user,'item'])[0]\n",
    "                subY = recommendForBasket(basket,V)\n",
    "                y0 = subY[true_target]\n",
    "                rank = np.sum(subY>y0)\n",
    "                percentileRank.append(1-rank/nItem)\n",
    "                top5Target = np.argsort(subY)[-5:]\n",
    "                top10Target = np.argsort(subY)[-10:]\n",
    "                top20Target = np.argsort(subY)[-20:]\n",
    "                if true_target in top5Target:\n",
    "                    precisionAt5 += 1\n",
    "                if true_target in top10Target:\n",
    "                    precisionAt10 += 1\n",
    "                if true_target in top20Target:\n",
    "                    precisionAt20 += 1\n",
    "\n",
    "        MPR.append(100*np.mean(percentileRank))\n",
    "        P[5].append(100*precisionAt5/len(percentileRank))\n",
    "        P[10].append(100*precisionAt10/len(percentileRank))\n",
    "        P[20].append(100*precisionAt20/len(percentileRank))\n",
    "    \n",
    "    print(\"\\n\")\n",
    "    print(\"*\"*20)\n",
    "    print(\"num latent factors:\",numTraits)\n",
    "    print(\"MPR=\",np.mean(MPR))\n",
    "    for K in Ks:\n",
    "        print(\"Precision @\"+str(K)+\"=\",np.mean(P[K]))\n",
    "    print(\"*\"*20)"
   ]
  },
  {
   "cell_type": "code",
   "execution_count": 12,
   "metadata": {},
   "outputs": [
    {
     "data": {
      "text/plain": [
       "(array([5.400e+01, 2.673e+03, 8.310e+02, 3.090e+02, 8.900e+01, 4.700e+01,\n",
       "        1.700e+01, 6.000e+00, 4.000e+00, 2.000e+00]),\n",
       " array([-0.06229745, -0.02868074,  0.00493598,  0.03855269,  0.07216941,\n",
       "         0.10578612,  0.13940284,  0.17301955,  0.20663627,  0.24025298,\n",
       "         0.2738697 ]),\n",
       " <a list of 10 Patch objects>)"
      ]
     },
     "execution_count": 12,
     "metadata": {},
     "output_type": "execute_result"
    },
    {
     "data": {
      "image/png": "[encoded data removed]",
      "text/plain": [
       "<matplotlib.figure.Figure at 0x7f41209ca0b8>"
      ]
     },
     "metadata": {},
     "output_type": "display_data"
    }
   ],
   "source": []
  },
  {
   "cell_type": "code",
   "execution_count": null,
   "metadata": {},
   "outputs": [],
   "source": []
  }
 ],
 "metadata": {
  "kernelspec": {
   "display_name": "Python 3",
   "language": "python",
   "name": "python3"
  },
  "language_info": {
   "codemirror_mode": {
    "name": "ipython",
    "version": 3
   },
   "file_extension": ".py",
   "mimetype": "text/x-python",
   "name": "python",
   "nbconvert_exporter": "python",
   "pygments_lexer": "ipython3",
   "version": "3.6.4"
  }
 },
 "nbformat": 4,
 "nbformat_minor": 2
}
